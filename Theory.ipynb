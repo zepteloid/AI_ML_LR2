{
 "cells": [
  {
   "cell_type": "markdown",
   "id": "a9732571-f9ff-4333-ad20-bd70ef696b1a",
   "metadata": {},
   "source": [
    "# Проработка теоретической информации #\n",
    "## 1.Многомерные массивы ##\n",
    "Виды массивов:\n",
    "1. **Одномерные** массивы(*вектор*)\n",
    "2. **Двумерные** массивы(*матрица*)\n",
    "3. **Многомерные** массивы(*тензор*)\n",
    "\n",
    "## 2. Математические операции ##\n",
    "1. Арифметические операции для массивов\n",
    "2. Линейная алгебра\n",
    "3. Статистические функции\n",
    "\n",
    "## 3. Векторизация ##"
   ]
  },
  {
   "cell_type": "code",
   "execution_count": 5,
   "id": "5b884e43-8bc8-48cc-aca0-724c65fbc8a4",
   "metadata": {},
   "outputs": [
    {
     "name": "stdout",
     "output_type": "stream",
     "text": [
      "[3 5 7]\n"
     ]
    }
   ],
   "source": [
    "import numpy as np\n",
    "a = np.array([1,2,3])\n",
    "b = np.array([2,3,4])\n",
    "\n",
    "result= a + b\n",
    "print(result)"
   ]
  },
  {
   "cell_type": "markdown",
   "id": "d271179a-deb7-40ef-a95b-ca57574e5050",
   "metadata": {},
   "source": [
    "## Пример использования ##\n",
    "1. Создание массива"
   ]
  },
  {
   "cell_type": "code",
   "execution_count": 4,
   "id": "69c51ce2-6aeb-4135-9828-e2f54864dfb0",
   "metadata": {},
   "outputs": [],
   "source": [
    "import numpy as np\n",
    "arr = np.array([1,2,3])"
   ]
  },
  {
   "cell_type": "markdown",
   "id": "1690cf25-8f2d-4abe-8d20-e29b2504bf84",
   "metadata": {},
   "source": [
    "2. Операции с массивами"
   ]
  },
  {
   "cell_type": "code",
   "execution_count": 3,
   "id": "38473e03-9dde-408c-a093-1faf481ca991",
   "metadata": {},
   "outputs": [
    {
     "name": "stdout",
     "output_type": "stream",
     "text": [
      "[5 7 9]\n"
     ]
    }
   ],
   "source": [
    "arr1 = np.array([1,2,3])\n",
    "arr2 = np.array([4,5,6])\n",
    "result = arr1 + arr2\n",
    "\n",
    "print(result)"
   ]
  },
  {
   "cell_type": "markdown",
   "id": "a817274d-b9c1-4c61-a282-e84b1edf6442",
   "metadata": {},
   "source": [
    "3. Матричные операции"
   ]
  },
  {
   "cell_type": "code",
   "execution_count": 7,
   "id": "07f5b04d-8d7a-45d9-8e1b-3b404574b4d6",
   "metadata": {},
   "outputs": [
    {
     "name": "stdout",
     "output_type": "stream",
     "text": [
      "[[19 22]\n",
      " [43 50]]\n"
     ]
    }
   ],
   "source": [
    "matrix1 = np.array([[1,2], [3,4]])\n",
    "matrix2 = np.array([[5,6], [7,8]])\n",
    "\n",
    "result = np.dot(matrix1, matrix2) # умножение матриц\n",
    "print(result)"
   ]
  },
  {
   "cell_type": "markdown",
   "id": "40e15c44-272c-4f3a-bc64-9afb55cd9335",
   "metadata": {},
   "source": [
    "4. Статистические функции"
   ]
  },
  {
   "cell_type": "code",
   "execution_count": 8,
   "id": "557e8ffa-ba62-4fc1-92ab-b15462234abd",
   "metadata": {},
   "outputs": [
    {
     "name": "stdout",
     "output_type": "stream",
     "text": [
      "3.0\n",
      "1.4142135623730951\n"
     ]
    }
   ],
   "source": [
    "data = np.array([1,2,3,4,5])\n",
    "mean = np.mean(data)\n",
    "std_dev = np.std(data)\n",
    "\n",
    "print(mean)\n",
    "print(std_dev)"
   ]
  },
  {
   "cell_type": "markdown",
   "id": "e1474be3-3cc4-4dee-9980-4f3fe8ca2b68",
   "metadata": {},
   "source": [
    "## Доступ к элементам массива ##"
   ]
  },
  {
   "cell_type": "code",
   "execution_count": 1,
   "id": "2c8db8af-5ecd-404b-b1dd-8192e6886a7e",
   "metadata": {},
   "outputs": [
    {
     "name": "stdout",
     "output_type": "stream",
     "text": [
      "[[1 2 3 4]\n",
      " [5 6 7 8]\n",
      " [9 1 5 7]]\n",
      "5\n",
      "[[5 6 7 8]]\n",
      "[[2]\n",
      " [6]\n",
      " [1]]\n",
      "[[5 6]] [[7 8]]\n",
      "[[2 3]\n",
      " [6 7]]\n"
     ]
    }
   ],
   "source": [
    "import numpy as np\n",
    "matrix = np.matrix('1,2,3,4; 5,6,7,8; 9,1,5,7')\n",
    "\n",
    "print(matrix) # Вывод матрицы\n",
    "\n",
    "print(matrix[1,0]) # Вывод элемента\n",
    "\n",
    "print(matrix[1, : ]) # вывод строки\n",
    "\n",
    "print(matrix[: , 1]) # вывод столбца\n",
    "\n",
    "# вывод части строки\n",
    "print(matrix[1, :2], end = \" \")\n",
    "print(matrix[1, 2:])\n",
    "\n",
    "#Вывод части массива\n",
    "print(matrix[0:2, 1:3])"
   ]
  },
  {
   "cell_type": "markdown",
   "id": "90030440-dcf6-4b73-9387-5fce66c9a2db",
   "metadata": {},
   "source": [
    "## Расчет статистик по данным в массиве ##"
   ]
  },
  {
   "cell_type": "code",
   "execution_count": 7,
   "id": "3ef6d914-6123-4d88-b49c-194c387b90d7",
   "metadata": {},
   "outputs": [
    {
     "name": "stdout",
     "output_type": "stream",
     "text": [
      "[[1 2 3 4]\n",
      " [5 6 7 8]\n",
      " [9 1 5 7]]<class 'numpy.matrix'>\n",
      "[[1 2 3 4]\n",
      " [5 6 7 8]\n",
      " [9 1 5 7]]<class 'numpy.ndarray'>\n"
     ]
    }
   ],
   "source": [
    "import numpy as np\n",
    "m = np.matrix('1,2,3,4; 5,6,7,8; 9,1,5,7')\n",
    "print(m, end='')\n",
    "print(type(m))\n",
    "# превращщение объекта типа matrix в тип ndarray\n",
    "m = np.array(m)\n",
    "print(m, end='')\n",
    "print(type(m))"
   ]
  },
  {
   "cell_type": "markdown",
   "id": "a32abbb7-0121-4080-b0f7-0a9f61d207cb",
   "metadata": {},
   "source": [
    "## Размерность массива ##"
   ]
  },
  {
   "cell_type": "code",
   "execution_count": 15,
   "id": "16229547-989c-4130-a332-4b52f5e24ae5",
   "metadata": {},
   "outputs": [
    {
     "name": "stdout",
     "output_type": "stream",
     "text": [
      "(3, 3)\n"
     ]
    }
   ],
   "source": [
    "import numpy as np\n",
    "m = np.matrix(\"1,2,3; 4,5,6; 7,8,9\")\n",
    "m = np.array(m)\n",
    "print(m.shape)"
   ]
  },
  {
   "cell_type": "markdown",
   "id": "8b404b18-9702-4b17-9765-eddc19534d0e",
   "metadata": {},
   "source": [
    "## Вызов функции расчета статистики ##\n"
   ]
  },
  {
   "cell_type": "code",
   "execution_count": 36,
   "id": "aefd9d66-ec99-43ee-92fb-0e22aa18e0cb",
   "metadata": {},
   "outputs": [
    {
     "name": "stdout",
     "output_type": "stream",
     "text": [
      "[[1 2 3]\n",
      " [4 5 6]\n",
      " [7 8 9]]\n",
      "[7 8 9]\n",
      "[3 6 9]\n"
     ]
    }
   ],
   "source": [
    "import numpy as np\n",
    "m = np.matrix(\"1,2,3; 4,5,6; 7,8,9\")\n",
    "m = np.array(m)\n",
    "\n",
    "print(m)\n",
    "print(m.max(axis=0))\n",
    "print(np.max(m, axis=1))\n",
    "\n"
   ]
  },
  {
   "cell_type": "markdown",
   "id": "ff680e59-c485-4387-9c81-e73db9e7ed3d",
   "metadata": {},
   "source": [
    "## Функции(методы) для расчета статистик в Numpy ##"
   ]
  },
  {
   "cell_type": "code",
   "execution_count": 64,
   "id": "d8f6233f-0bfd-4edb-883d-0997278e97ec",
   "metadata": {},
   "outputs": [
    {
     "name": "stdout",
     "output_type": "stream",
     "text": [
      "ARGMIN / ARGMAX -  ИНДЕКС MIN/MAX ЭЛЕМЕНТА\n",
      "0\n",
      "8\n",
      "\n",
      "MAX / MIN - МАКСИМАЛЬНОЕ МИНИМАЛЬНОЕ ЗНАЧЕНИЕ\n",
      "9\n",
      "1\n",
      "\n",
      "MEAN - СРЕДНЕЕ ЗНАЧЕНИЕ ПО ОСЯМ\n",
      "[[1 2 3]\n",
      " [4 5 6]\n",
      " [7 8 9]]\n",
      "5.0\n",
      "[4. 5. 6.] столбцы\n",
      "[2. 5. 8.] Строки\n",
      "\n",
      "PROD - ПРОИЗВЕДЕНИЕ ВСЕХ ЭЛЕМЕНТОВ\n",
      "362880\n",
      "\n",
      "STD - СТАНДАРТНОЕ ОТКЛОНЕНИЕ ПО ОСЯМ\n",
      "2.581988897471611\n",
      "\n",
      "SUM - СУММА ВСЕХ ЭЛЕМЕНТОВ\n",
      "45\n",
      "\n",
      "VAR - ДИСПЕРСИЯ\n",
      "6.666666666666667\n"
     ]
    }
   ],
   "source": [
    "print(\"argmin / argmax -  индекс min/max элемента\".upper())\n",
    "print(np.argmin(m))\n",
    "print(np.argmax(m))\n",
    "\n",
    "print(\"\\nmax / min - максимальное минимальное значение\".upper())\n",
    "print(np.max(m))\n",
    "print(np.min(m))\n",
    "\n",
    "print(\"\\nmean - среднее значение по осям\".upper())\n",
    "print(m)\n",
    "print(np.mean(m))\n",
    "print(np.mean(m, axis=0), \"столбцы\")\n",
    "print(np.mean(m, axis=1), \"Строки\")\n",
    "\n",
    "print(\"\\nprod - произведение всех элементов\".upper())\n",
    "print(np.prod(m))\n",
    "\n",
    "print(\"\\nstd - Стандартное отклонение по осям\".upper())\n",
    "print(np.std(m))\n",
    "\n",
    "print(\"\\nsum - сумма всех элементов\".upper())\n",
    "print(np.sum(m))\n",
    "\n",
    "print(\"\\nvar - дисперсия\".upper())\n",
    "print(np.var(m))"
   ]
  },
  {
   "cell_type": "markdown",
   "id": "9c80678d-d41f-4682-8c70-a1d793fa4fd6",
   "metadata": {},
   "source": [
    "## Использование boolean массива для доступа к ndarray ##"
   ]
  },
  {
   "cell_type": "code",
   "execution_count": 93,
   "id": "2aaa7381-b7e7-4648-ac25-8b4e47f8c833",
   "metadata": {},
   "outputs": [
    {
     "name": "stdout",
     "output_type": "stream",
     "text": [
      "[[1 2 3 4]\n",
      " [5 6 7 8]\n",
      " [9 1 5 7]]\n",
      "[[False False  True  True]\n",
      " [ True  True  True False]\n",
      " [False False  True  True]]\n",
      "[[3 4 5 6 7 5 7]]\n",
      "\n",
      " [1 2 3 4]\n",
      "[10 10 10 10  5  6  7  8  9 10]\n",
      "\n",
      " [[ 1  2  3  4]\n",
      " [ 5  6  7 25]\n",
      " [25  1  5  7]]\n"
     ]
    }
   ],
   "source": [
    "nums = np.array([1, 2, 3, 4, 5, 6, 7, 8, 9, 10])\n",
    "letters = np.array(['a', 'b', 'c', 'd', 'a', 'e', 'b'])\n",
    "\n",
    "less_then_5 = nums < 5\n",
    "less_then_5\n",
    "\n",
    "nums[less_then_5]\n",
    "\n",
    "m = np.matrix('1,2,3,4; 5,6,7,8; 9,1,5,7')\n",
    "print(m)\n",
    "\n",
    "condition = np.logical_and(m>=3, m<=7)\n",
    "print(condition)\n",
    "\n",
    "matrix_with_condition = m[condition]\n",
    "print(matrix_with_condition)\n",
    "\n",
    "\n",
    "# индексация используя boolean выражения но не создавая boolean массив\n",
    "print(\"\\n\",nums[nums < 5])\n",
    "\n",
    "# модификация данных с помощью boolean\n",
    "nums[nums < 5] = 10\n",
    "print(nums)\n",
    "\n",
    "m[m > 7] = 25\n",
    "print(\"\\n\",m)"
   ]
  },
  {
   "cell_type": "markdown",
   "id": "7d32e777-bfa2-4c04-95c6-3e2f9646aa7d",
   "metadata": {},
   "source": [
    "## Дополнительные функции ##"
   ]
  },
  {
   "cell_type": "code",
   "execution_count": 110,
   "id": "7cb1c939-d631-4b55-aa0b-aa783f21124f",
   "metadata": {},
   "outputs": [
    {
     "name": "stdout",
     "output_type": "stream",
     "text": [
      "ФУНКЦИЯ NP.ARANGE()\n",
      "[0 1 2 3 4 5 6 7 8 9]\n",
      "[5 6 7 8 9]\n",
      "[ 2.   2.5  3.   3.5  4.   4.5  5.   5.5  6.   6.5  7.   7.5  8.   8.5\n",
      "  9.   9.5 10.  10.5 11.  11.5 12.  12.5 13.  13.5 14.  14.5 15.  15.5\n",
      " 16.  16.5 17.  17.5 18.  18.5 19.  19.5 20.  20.5 21.  21.5 22.  22.5\n",
      " 23.  23.5]\n",
      "\n",
      "ФУНКЦИЯ NP.MATRIX() CО СПИСКОМ PYTHON\n",
      "[[1 2]\n",
      " [3 4]]\n",
      "\n",
      "ФУНКЦИЯ NP.MATRIX() С МАССИВОМ NUMPY\n",
      "[[1 2]\n",
      " [3 4]]\n",
      "\n",
      "ФУНКЦИЯ NP.MATRIX() В MATLAB СТИЛЕ\n",
      "[[1 2]\n",
      " [3 4]]\n"
     ]
    }
   ],
   "source": [
    "print(\"функция np.arange()\".upper())\n",
    "print(np.arange(10))\n",
    "print(np.arange(5,10))\n",
    "print(np.arange(2,24,0.5))\n",
    "\n",
    "print(\"\\nфункция np.matrix() cо списком Python\".upper())\n",
    "a = [[1,2], [3,4]]\n",
    "print(np.matrix(a))\n",
    "\n",
    "\n",
    "print(\"\\nфункция np.matrix() с массивом Numpy\".upper())\n",
    "b = np.array([[1,2],[3,4]])\n",
    "print(np.matrix(b))\n",
    "\n",
    "print(\"\\nфункция np.matrix() в Matlab стиле\".upper())\n",
    "c = np.matrix('[1,2;3,4]')\n",
    "print(c)"
   ]
  },
  {
   "cell_type": "code",
   "execution_count": 120,
   "id": "be99fafb-d7bb-4037-b1a6-34b704065b71",
   "metadata": {},
   "outputs": [
    {
     "name": "stdout",
     "output_type": "stream",
     "text": [
      "ФУНКЦИИ NP.ZEROS() И NP.EYE()\n",
      "[[0. 0. 0. 0.]\n",
      " [0. 0. 0. 0.]\n",
      " [0. 0. 0. 0.]]\n",
      "\n",
      "\n",
      "[[1. 0. 0. 0.]\n",
      " [0. 1. 0. 0.]\n",
      " [0. 0. 1. 0.]]\n"
     ]
    }
   ],
   "source": [
    "print(\"Функции np.zeros() и np.eye()\".upper())\n",
    "\n",
    "null_matrix = np.zeros((3,4))\n",
    "print(null_matrix)\n",
    "\n",
    "print(\"\\n\")\n",
    "unit_matrix = np.eye(3,4)\n",
    "print(unit_matrix)"
   ]
  },
  {
   "cell_type": "code",
   "execution_count": 128,
   "id": "2f9c730a-255e-44ad-9e5b-cb8997eafb07",
   "metadata": {},
   "outputs": [
    {
     "name": "stdout",
     "output_type": "stream",
     "text": [
      "Функция np.ravel()\n",
      "[[ 1  2  3  4]\n",
      " [ 5  6  7  8]\n",
      " [ 9 10 11 12]]\n",
      "[ 1  2  3  4  5  6  7  8  9 10 11 12]\n",
      "[ 1  5  9  2  6 10  3  7 11  4  8 12]\n"
     ]
    }
   ],
   "source": [
    "print(\"Функция np.ravel()\")\n",
    "temp_matrix = np.matrix([[1,2,3,4],[5,6,7,8],[9,10,11,12]])\n",
    "print(temp_matrix)\n",
    "\n",
    "matrix_with_ravel_order_c = np.ravel(temp_matrix, order='C')\n",
    "print(matrix_with_ravel_order_c)\n",
    "\n",
    "matrix_with_ravel_order_f = np.ravel(temp_matrix, order='F')\n",
    "print(matrix_with_ravel_order_f)"
   ]
  },
  {
   "cell_type": "code",
   "execution_count": 8,
   "id": "c5a704e2-07a0-4a1e-8b06-b2699b3407bd",
   "metadata": {},
   "outputs": [
    {
     "name": "stdout",
     "output_type": "stream",
     "text": [
      "ФУНКЦИЯ NP.WHERE()\n",
      "[ 0.1 20.   0.3 40.   0.5 60.   0.7 80.   0.9]\n",
      "[0.30008453 0.04546044 0.5192964  0.97319234 0.63041779 0.2115274\n",
      " 0.81200868 0.53769919 0.23851027 0.62526114]\n"
     ]
    }
   ],
   "source": [
    "import numpy as np\n",
    "print(\"функция np.where()\".upper())\n",
    "\n",
    "a = np.array([1,2,3,4,5,6,7,8,9])\n",
    "condition_array = np.where(a % 2 == 0, a*10, a / 10)\n",
    "print(condition_array)\n",
    "\n",
    "a = np.random.rand(10)\n",
    "print(a)"
   ]
  },
  {
   "cell_type": "code",
   "execution_count": 18,
   "id": "bf0ad117-685d-4fb0-b5d7-de3f5b98c0ec",
   "metadata": {},
   "outputs": [
    {
     "name": "stdout",
     "output_type": "stream",
     "text": [
      "ФУНКЦИЯ NP.MESHGRID\n",
      "\n",
      "[[0.   0.25 0.5  0.75 1.  ]\n",
      " [0.   0.25 0.5  0.75 1.  ]\n",
      " [0.   0.25 0.5  0.75 1.  ]\n",
      " [0.   0.25 0.5  0.75 1.  ]\n",
      " [0.   0.25 0.5  0.75 1.  ]]\n",
      "[[0.  0.  0.  0.  0. ]\n",
      " [0.5 0.5 0.5 0.5 0.5]\n",
      " [1.  1.  1.  1.  1. ]\n",
      " [1.5 1.5 1.5 1.5 1.5]\n",
      " [2.  2.  2.  2.  2. ]]\n"
     ]
    },
    {
     "data": {
      "text/plain": [
       "[<matplotlib.lines.Line2D at 0x79f45e332420>,\n",
       " <matplotlib.lines.Line2D at 0x79f45e4c4260>,\n",
       " <matplotlib.lines.Line2D at 0x79f45e332540>,\n",
       " <matplotlib.lines.Line2D at 0x79f45e332600>,\n",
       " <matplotlib.lines.Line2D at 0x79f45e3326c0>]"
      ]
     },
     "execution_count": 18,
     "metadata": {},
     "output_type": "execute_result"
    },
    {
     "data": {
      "image/png": "[encoded data removed]",
      "text/plain": [
       "<Figure size 640x480 with 1 Axes>"
      ]
     },
     "metadata": {},
     "output_type": "display_data"
    }
   ],
   "source": [
    "import numpy as np\n",
    "import matplotlib.pyplot as plt\n",
    "\n",
    "print(\"Функция np.meshgrid\\n\".upper())\n",
    "\n",
    "x = np.linspace(0, 1, 5)\n",
    "y = np.linspace(0, 2, 5)\n",
    "\n",
    "xg, yg = np.meshgrid(x, y)\n",
    "print(xg)\n",
    "print(yg)\n",
    "\n",
    "plt.plot(xg, yg, color=\"b\", marker=\".\", linestyle=\"none\")"
   ]
  },
  {
   "cell_type": "code",
   "execution_count": 23,
   "id": "f19bf91e-4295-486f-a325-c8422be7ca4b",
   "metadata": {},
   "outputs": [
    {
     "name": "stdout",
     "output_type": "stream",
     "text": [
      "NP.RANDOM.PERMUTATION()\n",
      "\n",
      "[6 4 1 0 8 2 5 9 3 7]\n",
      "[1 0 6 7 4 3 8 5 2 9]\n",
      "[ 0.   2.5  5.   7.5 10. ]\n",
      "[ 7.5  5.   0.  10.   2.5]\n",
      "5\n",
      "[0 3 2 4 1]\n"
     ]
    }
   ],
   "source": [
    "import numpy as np\n",
    "\n",
    "print(\"np.random.permutation()\\n\".upper())\n",
    "\n",
    "x = np.random.permutation(10)\n",
    "print(x)\n",
    "print(np.random.permutation(x))\n",
    "\n",
    "array = np.linspace(0,10,5)\n",
    "print(array)\n",
    "array_mix = np.random.permutation(array)\n",
    "print(array_mix)\n",
    "\n",
    "index_mix = np.random.permutation(len(array_mix))\n",
    "print(index_mix)"
   ]
  },
  {
   "cell_type": "markdown",
   "id": "10435e6d-389f-472c-8a21-fabe27fbec84",
   "metadata": {},
   "source": [
    "# Матрицы #\n",
    "Общий вид матрицы:\n",
    "\n",
    "\n",
    " \\begin{pmatrix} \n",
    "a_{11} & a_{12} & \\ldots & a_{1n} \\\\ \n",
    "a_{21} & a_{22} & \\ldots & a_{2n} \\\\ \n",
    "\\vdots & \\vdots & \\ddots & \\vdots \\\\ \n",
    "a_{m1} & a_{m2} & \\ldots & a_{mn} \n",
    "\\end{pmatrix}\n",
    "\n",
    "# Виды матриц #\n",
    "## Вектор ##\n",
    "**Вектор** - это матрица, у который есть только один столбец или одна строка.\n"
   ]
  },
  {
   "cell_type": "code",
   "execution_count": 34,
   "id": "7e9e3ccb-e7aa-4ac8-a607-7895a3d059e1",
   "metadata": {},
   "outputs": [
    {
     "name": "stdout",
     "output_type": "stream",
     "text": [
      "ВЕКТОР-СТРОКА\n",
      "\n",
      "[1 2]\n",
      "[0. 0. 0. 0. 0.]\n",
      "[[0. 0. 0. 0. 0.]]\n",
      "[1. 1. 1. 1. 1.]\n",
      "[[1. 1. 1. 1. 1.]]\n"
     ]
    }
   ],
   "source": [
    "import numpy as np\n",
    "\n",
    "print(\"вектор-строка\\n\".upper())\n",
    "\n",
    "v_hor_np = np.array([1,2])\n",
    "print(v_hor_np)\n",
    "\n",
    "v_hor_zeros_v1 = np.zeros((5))\n",
    "print(v_hor_zeros_v1)\n",
    "\n",
    "v_hor_zeros_v2 = np.zeros((1,5))\n",
    "print(v_hor_zeros_v2)\n",
    "\n",
    "v_hor_one_v1 = np.ones((5))\n",
    "print(v_hor_one_v1)\n",
    "\n",
    "v_hor_one_v2 = np.ones((1,5))\n",
    "print(v_hor_one_v2)"
   ]
  },
  {
   "cell_type": "code",
   "execution_count": 46,
   "id": "4665a84e-8808-48c7-bb15-8ae1ae5cd48a",
   "metadata": {},
   "outputs": [
    {
     "name": "stdout",
     "output_type": "stream",
     "text": [
      "ВЕКТОР-СТОЛБЕЦ\n",
      "\n",
      "[[2]\n",
      " [1]]\n",
      "[[0.]\n",
      " [0.]\n",
      " [0.]\n",
      " [0.]\n",
      " [0.]]\n",
      "[[1.]\n",
      " [1.]\n",
      " [1.]\n",
      " [1.]\n",
      " [1.]]\n"
     ]
    }
   ],
   "source": [
    "import numpy as np\n",
    "\n",
    "print(\"Вектор-столбец\\n\".upper())\n",
    "\n",
    "v_vert_np = np.array([[2],[1]])\n",
    "print(v_vert_np)\n",
    "\n",
    "v_vert_zeros = np.zeros((5,1))\n",
    "print(v_vert_zeros)\n",
    "\n",
    "v_vert_ones = np.ones((5,1))\n",
    "print(v_vert_ones)"
   ]
  },
  {
   "cell_type": "code",
   "execution_count": 53,
   "id": "91b6bd44-7091-43d0-8df5-bfe7eacb1d06",
   "metadata": {},
   "outputs": [
    {
     "name": "stdout",
     "output_type": "stream",
     "text": [
      "КВАДРАТНАЯ МАТРИЦА\n",
      "\n",
      "Матрица через array\n",
      "[[1 2 3]\n",
      " [4 5 6]\n",
      " [7 8 9]]\n",
      "\n",
      "Матрица через matrix\n",
      "[[1 2 3]\n",
      " [4 5 6]\n",
      " [7 8 9]]\n",
      "\n",
      "Матрица через стиль Matlab\n",
      "[[1 2 3]\n",
      " [4 5 6]\n",
      " [7 8 9]]\n"
     ]
    }
   ],
   "source": [
    "import numpy as np\n",
    "\n",
    "print(\"Квадратная матрица\\n\".upper())\n",
    "print(\"Матрица через array\")\n",
    "m_sqr_arr = np.array([[1,2,3], [4,5,6], [7,8,9]])\n",
    "print(m_sqr_arr)\n",
    "\n",
    "print(\"\\nМатрица через matrix\")\n",
    "m_sqr_mx = np.matrix([[1,2,3], [4,5,6], [7,8,9]])\n",
    "print(m_sqr_mx)\n",
    "\n",
    "print(\"\\nМатрица через стиль Matlab\")\n",
    "m_sqr_mx = np.matrix('1,2,3; 4,5,6; 7,8,9')\n",
    "print(m_sqr_mx)"
   ]
  },
  {
   "cell_type": "markdown",
   "id": "9e8d770f-ae46-4acc-a493-f1a04abd61d3",
   "metadata": {},
   "source": [
    "## Диагональная матрица ##\n",
    "Особым видом квадратно матрицы является **диагональная** - это такая матрица, у которой все элементы, кроме тех, что расположены на главной диагонали, равны нулю"
   ]
  },
  {
   "cell_type": "code",
   "execution_count": 60,
   "id": "ee0cbd77-09eb-488e-8a37-e270b4433003",
   "metadata": {},
   "outputs": [
    {
     "name": "stdout",
     "output_type": "stream",
     "text": [
      "[[1 0 0]\n",
      " [0 5 0]\n",
      " [0 0 9]]\n",
      "\n",
      " [[1 2 3]\n",
      " [4 5 6]\n",
      " [7 8 9]]\n",
      "[1 5 9]\n",
      "\n",
      " [[1 0 0]\n",
      " [0 5 0]\n",
      " [0 0 9]]\n"
     ]
    }
   ],
   "source": [
    "m_diag = [[1,0,0], [0,5,0], [0,0,9]]\n",
    "\n",
    "m_diag_np = np.matrix(m_diag)\n",
    "\n",
    "print(m_diag_np)\n",
    "\n",
    "m_sqr_mx = np.matrix('1,2,3; 4,5,6; 7,8,9')\n",
    "print(\"\\n\", m_sqr_mx)\n",
    "\n",
    "diag = np.diag(m_sqr_mx)\n",
    "print(diag)\n",
    "\n",
    "m_diag_np = np.diag(diag)\n",
    "print(\"\\n\", m_diag_np)"
   ]
  },
  {
   "cell_type": "code",
   "execution_count": 65,
   "id": "bf761ac4-808c-4e0b-87e4-3d09c63fa866",
   "metadata": {},
   "outputs": [
    {
     "name": "stdout",
     "output_type": "stream",
     "text": [
      "ЕДИНИЧНАЯ МАТРИЦА\n",
      "\n",
      "[[1 0 0]\n",
      " [0 1 0]\n",
      " [0 0 1]]\n",
      "[[1. 0. 0.]\n",
      " [0. 1. 0.]\n",
      " [0. 0. 1.]]\n"
     ]
    }
   ],
   "source": [
    "print(\"Единичная матрица\\n\".upper())\n",
    "\n",
    "m_e = [[1,0,0], [0,1,0], [0,0,1]]\n",
    "m_e_np = np.matrix(m_e)\n",
    "print(m_e_np)\n",
    "\n",
    "m_eye = np.eye(3)\n",
    "print(m_eye)"
   ]
  },
  {
   "cell_type": "code",
   "execution_count": 66,
   "id": "cc7f7ef6-fcec-4cf9-a5ed-9a4ef5358739",
   "metadata": {},
   "outputs": [
    {
     "name": "stdout",
     "output_type": "stream",
     "text": [
      "НУЛЕВАЯ МАТРИЦА\n",
      "\n",
      "[[0. 0. 0.]\n",
      " [0. 0. 0.]\n",
      " [0. 0. 0.]]\n"
     ]
    }
   ],
   "source": [
    "print(\"Нулевая матрица\\n\".upper())\n",
    "\n",
    "np_zeros = np.zeros((3,3))\n",
    "print(np_zeros)"
   ]
  },
  {
   "cell_type": "markdown",
   "id": "49383f9d-3c5c-4b0e-b418-f03e823324ef",
   "metadata": {},
   "source": [
    "## Задание матриц в общем виде ##\n",
    "Если у вас уже есть данные о содержимом матрицы, то создать ее можноиспользуя списки Python или функцию matrix():"
   ]
  },
  {
   "cell_type": "code",
   "execution_count": 68,
   "id": "f6ab81c3-32b0-4fe7-8bd9-bd073d6f6e17",
   "metadata": {},
   "outputs": [
    {
     "name": "stdout",
     "output_type": "stream",
     "text": [
      "[[1 2 3]\n",
      " [4 5 6]]\n",
      "[[0. 0. 0. 0. 0.]\n",
      " [0. 0. 0. 0. 0.]]\n"
     ]
    }
   ],
   "source": [
    "m_mx = np.matrix('1, 2, 3; 4, 5, 6')\n",
    "print(m_mx)\n",
    "\n",
    "m_var = np.zeros((2,5))\n",
    "print(m_var)"
   ]
  },
  {
   "cell_type": "code",
   "execution_count": 74,
   "id": "eb28b6f9-c46d-40b5-9b1c-62ca7291cbc8",
   "metadata": {},
   "outputs": [
    {
     "name": "stdout",
     "output_type": "stream",
     "text": [
      "ТРАНСПОНИРОВАНИЕ МАТРИЦ\n",
      "\n",
      "[[1 2 3]\n",
      " [4 5 6]]\n",
      "[[1 4]\n",
      " [2 5]\n",
      " [3 6]]\n",
      "[[1 4]\n",
      " [2 5]\n",
      " [3 6]]\n"
     ]
    }
   ],
   "source": [
    "print(\"Транспонирование матриц\\n\".upper())\n",
    "\n",
    "A = np.matrix('1,2,3; 4,5,6')\n",
    "print(A)\n",
    "A_t = A.transpose()\n",
    "print(A_t)\n",
    "print(A.T)"
   ]
  },
  {
   "cell_type": "markdown",
   "id": "a27771d4-84c9-4dbc-a5c5-a0239ec6a605",
   "metadata": {},
   "source": [
    "## Действия над матрицы ##"
   ]
  },
  {
   "cell_type": "code",
   "execution_count": 79,
   "id": "89b0cb5f-5a0a-46f1-806f-2d7bf5334ce8",
   "metadata": {},
   "outputs": [
    {
     "name": "stdout",
     "output_type": "stream",
     "text": [
      "УМНОЖЕНИЕ МАТРИЦЫ НА ЧИСЛО\n",
      "\n",
      "[[ 3  6  9]\n",
      " [12 15 18]]\n",
      "[[ 5 10 15]\n",
      " [20 25 30]]\n",
      "[[ 5 10 15]\n",
      " [20 25 30]]\n"
     ]
    }
   ],
   "source": [
    "print(\"Умножение матрицы на число\\n\".upper())\n",
    "A = np.matrix('1,2,3; 4,5,6')\n",
    "C = 3 * A\n",
    "print(C)\n",
    "\n",
    "q = 2\n",
    "p = 3\n",
    "\n",
    "L = (q + p) * A\n",
    "R = p * A + q * A\n",
    "\n",
    "print(L)\n",
    "print(R)"
   ]
  },
  {
   "cell_type": "code",
   "execution_count": 81,
   "id": "bc9fa377-3086-4356-acf0-db14db6db007",
   "metadata": {},
   "outputs": [
    {
     "name": "stdout",
     "output_type": "stream",
     "text": [
      "СЛОЖЕНИЕ МАТРИЦ\n",
      "\n",
      "[[ 9  7  8]\n",
      " [14 11 19]]\n"
     ]
    }
   ],
   "source": [
    "print(\"Сложение матриц\\n\".upper())\n",
    "\n",
    "A = np.matrix('1 6 3; 8 2 7')\n",
    "B = np.matrix('8 1 5; 6 9 12')\n",
    "\n",
    "C = A + B\n",
    "print(C)"
   ]
  },
  {
   "cell_type": "markdown",
   "id": "f255152a-9499-4bd7-901a-8f23b96867e6",
   "metadata": {},
   "source": [
    "## Умножение матриц ##\n",
    "Умножать матрицы можно, только если они отвечают следующему требованию: **количество столбцов первой матрицы должно быть равно числу строк второй матрицы**"
   ]
  },
  {
   "cell_type": "code",
   "execution_count": 83,
   "id": "d871e6e6-ce06-494d-b37b-949426276536",
   "metadata": {},
   "outputs": [
    {
     "name": "stdout",
     "output_type": "stream",
     "text": [
      "[[1 2 3]\n",
      " [4 5 6]] \n",
      "\n",
      "[[7 8]\n",
      " [9 1]\n",
      " [2 3]] \n",
      "\n",
      "[[31 19]\n",
      " [85 55]]\n"
     ]
    }
   ],
   "source": [
    "A = np.matrix('1 2 3; 4 5 6')\n",
    "B = np.matrix('7 8; 9 1; 2 3')\n",
    "C = A.dot(B)\n",
    "\n",
    "print(A, \"\\n\")\n",
    "print(B, \"\\n\")\n",
    "print(C)"
   ]
  },
  {
   "cell_type": "code",
   "execution_count": 84,
   "id": "754f6866-c7f0-4cb3-874d-e0d56af1c2d8",
   "metadata": {},
   "outputs": [
    {
     "name": "stdout",
     "output_type": "stream",
     "text": [
      "Обратная матрица\n",
      "[[ 0.45454545  0.27272727]\n",
      " [-0.18181818  0.09090909]]\n"
     ]
    }
   ],
   "source": [
    "print(\"Обратная матрица\")\n",
    "\n",
    "A = np.matrix('1 -3; 2 5')\n",
    "A_inv = np.linalg.inv(A)\n",
    "print(A_inv)"
   ]
  },
  {
   "cell_type": "code",
   "execution_count": null,
   "id": "7dc55e8b-bebf-4139-aa57-54ff2fadffee",
   "metadata": {},
   "outputs": [],
   "source": []
  }
 ],
 "metadata": {
  "kernelspec": {
   "display_name": "Python 3 (ipykernel)",
   "language": "python",
   "name": "python3"
  },
  "language_info": {
   "codemirror_mode": {
    "name": "ipython",
    "version": 3
   },
   "file_extension": ".py",
   "mimetype": "text/x-python",
   "name": "python",
   "nbconvert_exporter": "python",
   "pygments_lexer": "ipython3",
   "version": "3.12.7"
  }
 },
 "nbformat": 4,
 "nbformat_minor": 5
}
